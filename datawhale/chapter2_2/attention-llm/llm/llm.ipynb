{
 "cells": [
  {
   "cell_type": "markdown",
   "id": "a6b573d4-3332-4eec-8ed7-d89a2658cb6f",
   "metadata": {},
   "source": [
    "## 准备"
   ]
  },
  {
   "cell_type": "code",
   "execution_count": null,
   "id": "c60ea58a-9276-4b16-85e9-8830e1482e26",
   "metadata": {},
   "outputs": [],
   "source": [
    "!git clone https://github.com/hscspring/llama.np"
   ]
  },
  {
   "cell_type": "code",
   "execution_count": null,
   "id": "3954f919-22ea-491d-82d3-9a91daf35055",
   "metadata": {
    "tags": []
   },
   "outputs": [],
   "source": [
    "%cd llama.np/"
   ]
  },
  {
   "cell_type": "code",
   "execution_count": null,
   "id": "7a9d38ef-ab44-49bc-8fbd-ea7fb0dca02e",
   "metadata": {},
   "outputs": [],
   "source": [
    "# 从这里下载模型 https://hf-mirror.com/karpathy/tinyllamas/tree/main\n",
    "# 放到llama.np目录\n",
    "import os\n",
    "\n",
    "# 设置环境变量\n",
    "os.environ['HF_ENDPOINT'] = 'https://hf-mirror.com'\n",
    "\n",
    "# 下载模型\n",
    "os.system('huggingface-cli download --resume-download karpathy/tinyllamas --local-dir /root/datawhale/sora_learn/datawhale/attention-llm/llm/llama.np')\n"
   ]
  },
  {
   "cell_type": "code",
   "execution_count": null,
   "id": "75d85e08-6291-4322-89b7-144a8e2110a1",
   "metadata": {},
   "outputs": [],
   "source": [
    "# 转换格式\n",
    "!python convert_bin_llama_to_np.py stories15M.bin"
   ]
  },
  {
   "cell_type": "code",
   "execution_count": null,
   "id": "01275c0f-8599-45f0-a212-f1c0dbbcc795",
   "metadata": {
    "tags": []
   },
   "outputs": [],
   "source": [
    "!ls -l "
   ]
  },
  {
   "cell_type": "code",
   "execution_count": null,
   "id": "852a4d13-f716-4ab2-91c6-56e902dfcda4",
   "metadata": {
    "tags": []
   },
   "outputs": [],
   "source": [
    "# 生成\n",
    "!python main.py \"Once upon\""
   ]
  },
  {
   "cell_type": "markdown",
   "id": "f5ba5b6f-946d-4140-9dd2-145cde4c515b",
   "metadata": {},
   "source": [
    "## LLaMA"
   ]
  },
  {
   "cell_type": "markdown",
   "id": "717a224a-72c0-46e2-ba9d-34b0c2708e59",
   "metadata": {},
   "source": [
    "- Tokenize\n",
    "- Decoding\n",
    "- Transformer Block"
   ]
  },
  {
   "cell_type": "markdown",
   "id": "82f31fac-f4bd-40dd-a221-24aae8e2ace8",
   "metadata": {},
   "source": [
    "![](https://qnimg.lovevivian.cn/blog-llama-arch.jpg)"
   ]
  },
  {
   "cell_type": "code",
   "execution_count": null,
   "id": "7cd63dbf-1bda-4b80-838d-0d1b123cb93f",
   "metadata": {
    "tags": []
   },
   "outputs": [],
   "source": [
    "from config import ModelArgs\n",
    "from model import Llama\n",
    "from tokenizer import Tokenizer\n",
    "import numpy as np"
   ]
  },
  {
   "cell_type": "code",
   "execution_count": null,
   "id": "87905219-fd0d-4b78-b2d4-9200c8ac8bca",
   "metadata": {
    "tags": []
   },
   "outputs": [],
   "source": [
    "args = ModelArgs(288, 6, 6, 6, 32000, None, 256)\n",
    "\n",
    "token_model_path = \"./tokenizer.model.np\"\n",
    "model_path = \"./stories15M.model.npz\"\n",
    "\n",
    "tok = Tokenizer(token_model_path)\n",
    "llama = Llama(model_path, args)"
   ]
  },
  {
   "cell_type": "code",
   "execution_count": null,
   "id": "92579d0b-4990-4747-bc5a-b72e5dfc9140",
   "metadata": {
    "tags": []
   },
   "outputs": [],
   "source": [
    "prompt = \"Once upon\"\n",
    "\n",
    "ids = tok.encode(prompt)\n",
    "input_ids = np.array([ids], dtype=np.int32)\n",
    "token_num = input_ids.shape[1]\n",
    "\n",
    "print(prompt, end=\"\")\n",
    "for ids in llama.generate(input_ids, args.max_seq_len, True, 1.0, 0.9, 0):\n",
    "    output_ids = ids[0].tolist()\n",
    "    if output_ids[-1] in [tok.eos_id, tok.bos_id]:\n",
    "        break\n",
    "    output_text = tok.decode(output_ids)\n",
    "    print(output_text, end=\"\")"
   ]
  }
 ],
 "metadata": {
  "kernelspec": {
   "display_name": "Python 3 (ipykernel)",
   "language": "python",
   "name": "python3"
  },
  "language_info": {
   "codemirror_mode": {
    "name": "ipython",
    "version": 3
   },
   "file_extension": ".py",
   "mimetype": "text/x-python",
   "name": "python",
   "nbconvert_exporter": "python",
   "pygments_lexer": "ipython3",
   "version": "3.8.10"
  }
 },
 "nbformat": 4,
 "nbformat_minor": 5
}
