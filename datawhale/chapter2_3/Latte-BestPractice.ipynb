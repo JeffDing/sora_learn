{
 "cells": [
  {
   "cell_type": "code",
   "execution_count": null,
   "id": "e5a74652-4504-4ab8-a91c-38e631082b30",
   "metadata": {
    "tags": []
   },
   "outputs": [],
   "source": [
    "!git clone https://github.com/maxin-cn/Latte.git\n",
    "%cd Latte"
   ]
  },
  {
   "cell_type": "code",
   "execution_count": null,
   "id": "7e92fb4c-98b4-45b9-a855-8eddf1ff2633",
   "metadata": {
    "tags": []
   },
   "outputs": [],
   "source": [
    "!pip install timm\n",
    "!pip install einops\n",
    "!pip install omegaconf\n",
    "!pip install diffusers==0.24.0"
   ]
  },
  {
   "cell_type": "code",
   "execution_count": null,
   "id": "acbf1495-1970-42dc-8ad6-d5708f037ffd",
   "metadata": {
    "ExecutionIndicator": {
     "show": true
    },
    "tags": []
   },
   "outputs": [],
   "source": [
    "%cd models\n",
    "!git lfs install\n",
    "!git clone https://www.modelscope.cn/AI-ModelScope/Latte.git"
   ]
  },
  {
   "cell_type": "markdown",
   "id": "43142f99-e902-4138-bf04-70c1df3f11c5",
   "metadata": {
    "tags": []
   },
   "source": [
    "修改配置文件configs/t2v/t2v_sample.yaml\n",
    "# path:\n",
    "ckpt: ./models/Latte/t2v.pt\n",
    "\n",
    "save_img_path: \"./sample_videos/t2v\"\n",
    "\n",
    "pretrained_model_path: \"./models/Latte/t2v_required_models\""
   ]
  },
  {
   "cell_type": "code",
   "execution_count": null,
   "id": "abea8603-ede5-4e99-adf6-89717cdaad9b",
   "metadata": {
    "ExecutionIndicator": {
     "show": true
    },
    "tags": []
   },
   "outputs": [],
   "source": [
    "!export CUDA_VISIBLE_DEVICES=0\n",
    "!export PYTHONPATH=../\n",
    "!python sample/sample_t2v.py --config configs/t2v/t2v_sample.yaml"
   ]
  }
 ],
 "metadata": {
  "kernelspec": {
   "display_name": "Python 3 (ipykernel)",
   "language": "python",
   "name": "python3"
  },
  "language_info": {
   "codemirror_mode": {
    "name": "ipython",
    "version": 3
   },
   "file_extension": ".py",
   "mimetype": "text/x-python",
   "name": "python",
   "nbconvert_exporter": "python",
   "pygments_lexer": "ipython3",
   "version": "3.8.10"
  }
 },
 "nbformat": 4,
 "nbformat_minor": 5
}
